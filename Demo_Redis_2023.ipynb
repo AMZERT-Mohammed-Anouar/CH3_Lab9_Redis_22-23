{
 "cells": [
  {
   "cell_type": "markdown",
   "id": "639214b2",
   "metadata": {},
   "source": [
    "# Demo Redis/Python For Esi-Sba 2SC students (2022-2023)"
   ]
  },
  {
   "cell_type": "markdown",
   "id": "3246e85c",
   "metadata": {},
   "source": [
    "### Importer redis"
   ]
  },
  {
   "cell_type": "code",
   "execution_count": null,
   "id": "88b0fa94",
   "metadata": {},
   "outputs": [],
   "source": [
    "import redis"
   ]
  },
  {
   "cell_type": "markdown",
   "id": "11b5c07e",
   "metadata": {},
   "source": [
    "### Se connecter au server Redis (docker container)"
   ]
  },
  {
   "cell_type": "code",
   "execution_count": null,
   "id": "29547471",
   "metadata": {},
   "outputs": [],
   "source": [
    "r=redis.StrictRedis(host='localhost', port=6379, db=0,decode_responses=True)"
   ]
  },
  {
   "cell_type": "markdown",
   "id": "6d60c808",
   "metadata": {},
   "source": [
    "### Ajouter/update un couple  clé-->valuer\n"
   ]
  },
  {
   "cell_type": "code",
   "execution_count": null,
   "id": "e0d7a373",
   "metadata": {},
   "outputs": [],
   "source": [
    "print(r.set('1234', 'user1'))"
   ]
  },
  {
   "cell_type": "markdown",
   "id": "49e62dd7",
   "metadata": {},
   "source": [
    "### Récupérer la valeur d’une clé\n"
   ]
  },
  {
   "cell_type": "code",
   "execution_count": null,
   "id": "aaaf384d",
   "metadata": {},
   "outputs": [],
   "source": [
    "print(r.get('1234'))"
   ]
  },
  {
   "cell_type": "markdown",
   "id": "3dff16af",
   "metadata": {},
   "source": [
    "### Supprimer une clé\n"
   ]
  },
  {
   "cell_type": "code",
   "execution_count": null,
   "id": "dcb26e29",
   "metadata": {},
   "outputs": [],
   "source": [
    "print (r.delete ('1234'))"
   ]
  },
  {
   "cell_type": "code",
   "execution_count": null,
   "id": "241e716f",
   "metadata": {},
   "outputs": [],
   "source": [
    "print(r.get('1234'))"
   ]
  },
  {
   "cell_type": "markdown",
   "id": "e41ec3ec",
   "metadata": {},
   "source": [
    "## Récupérer Toutes les clés"
   ]
  },
  {
   "cell_type": "code",
   "execution_count": null,
   "id": "15415b74",
   "metadata": {},
   "outputs": [],
   "source": [
    "r.set('1234', 'user1') \n",
    "r.set('1235', 'user2') \n",
    "r.set('923', 'user3')\n",
    "print(r.keys())"
   ]
  },
  {
   "cell_type": "markdown",
   "id": "316a3cfd",
   "metadata": {},
   "source": [
    "### Effacer toutes les clés"
   ]
  },
  {
   "cell_type": "code",
   "execution_count": null,
   "id": "0b4af9fc",
   "metadata": {},
   "outputs": [],
   "source": [
    "r.flushall()\n",
    "print(r.keys())"
   ]
  },
  {
   "cell_type": "markdown",
   "id": "c3d24c11",
   "metadata": {},
   "source": [
    "## Manipuler les List"
   ]
  },
  {
   "cell_type": "markdown",
   "id": "0d499df9",
   "metadata": {},
   "source": [
    "### Ajouter un élement à droite"
   ]
  },
  {
   "cell_type": "code",
   "execution_count": null,
   "id": "b5d2ed7e",
   "metadata": {},
   "outputs": [],
   "source": [
    "r.rpush ('skills','java') \n",
    "r.rpush ('skills','php') "
   ]
  },
  {
   "cell_type": "markdown",
   "id": "1f044675",
   "metadata": {},
   "source": [
    "### Ajouter un élément à gauche"
   ]
  },
  {
   "cell_type": "code",
   "execution_count": null,
   "id": "e5f326ca",
   "metadata": {},
   "outputs": [],
   "source": [
    "r.lpush ('skills','python') "
   ]
  },
  {
   "cell_type": "markdown",
   "id": "8f08b471",
   "metadata": {},
   "source": [
    "### Afficher les éléments de la liste"
   ]
  },
  {
   "cell_type": "code",
   "execution_count": null,
   "id": "92d4aaad",
   "metadata": {},
   "outputs": [],
   "source": [
    "r.rpush('skills','kkr')\n",
    "print(r.lrange('skills',0,-1))"
   ]
  },
  {
   "cell_type": "markdown",
   "id": "c44e83c1",
   "metadata": {},
   "source": [
    "## Manipuler les Hash"
   ]
  },
  {
   "cell_type": "markdown",
   "id": "3b7b8d51",
   "metadata": {},
   "source": [
    "### ajouter une entrée dans la table de hachage d’une clé"
   ]
  },
  {
   "cell_type": "code",
   "execution_count": null,
   "id": "cfd7d30e",
   "metadata": {},
   "outputs": [],
   "source": [
    "r.hset('1','name','malki')\n",
    "r.hset('1','email','a.malki@esi-sba.dz')\n",
    "print(r.hgetall('1'))"
   ]
  },
  {
   "cell_type": "markdown",
   "id": "9a605f15",
   "metadata": {},
   "source": [
    "## ajouter plusieurs entrées pour une clé donnée"
   ]
  },
  {
   "cell_type": "code",
   "execution_count": null,
   "id": "76f3a9ad",
   "metadata": {},
   "outputs": [],
   "source": [
    "r.hmset('2',{'name':'bensaber','email':'d.bensaber@esi-sba.dz', 'grade':'pr'})\n",
    "print(r.hgetall('2'))"
   ]
  },
  {
   "cell_type": "markdown",
   "id": "32b951bd",
   "metadata": {},
   "source": [
    "### supprime une entrée d’une table de hachage"
   ]
  },
  {
   "cell_type": "code",
   "execution_count": null,
   "id": "876af983",
   "metadata": {},
   "outputs": [],
   "source": [
    "r.hdel('2','name')\n",
    "print(r.hgetall('2'))"
   ]
  },
  {
   "cell_type": "code",
   "execution_count": null,
   "id": "688b27e9",
   "metadata": {},
   "outputs": [],
   "source": []
  }
 ],
 "metadata": {
  "kernelspec": {
   "display_name": "Python 3 (ipykernel)",
   "language": "python",
   "name": "python3"
  },
  "language_info": {
   "codemirror_mode": {
    "name": "ipython",
    "version": 3
   },
   "file_extension": ".py",
   "mimetype": "text/x-python",
   "name": "python",
   "nbconvert_exporter": "python",
   "pygments_lexer": "ipython3",
   "version": "3.7.4"
  }
 },
 "nbformat": 4,
 "nbformat_minor": 5
}
